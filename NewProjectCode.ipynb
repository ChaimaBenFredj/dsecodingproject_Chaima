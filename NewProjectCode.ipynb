{
 "cells": [
  {
   "cell_type": "code",
   "execution_count": 3,
   "id": "692eae00-3fa9-48f7-83fa-d1fc5037d77d",
   "metadata": {},
   "outputs": [],
   "source": [
    "import pandas as pd\n",
    "import random"
   ]
  },
  {
   "cell_type": "code",
   "execution_count": 9,
   "id": "9c4a0645-9c97-4665-b4b0-f174dc27d7eb",
   "metadata": {},
   "outputs": [
    {
     "name": "stdout",
     "output_type": "stream",
     "text": [
      "      tconst  averageRating  numVotes\n",
      "0  tt0000001            5.7      2097\n",
      "1  tt0000002            5.6       282\n",
      "2  tt0000003            6.5      2117\n",
      "3  tt0000004            5.4       182\n",
      "4  tt0000005            6.2      2847\n"
     ]
    }
   ],
   "source": [
    "ratings = pd.read_csv(\"C:/Users/PCS/Desktop/dsecodingproject_Chaima/Dataset/ratings.tsv\", sep=\"\\t\")\n",
    "print(ratings.head())"
   ]
  },
  {
   "cell_type": "code",
   "execution_count": 17,
   "id": "0d912771-fba4-45d2-9867-ce17d465b95f",
   "metadata": {},
   "outputs": [
    {
     "name": "stdout",
     "output_type": "stream",
     "text": [
      "           tconst  averageRating  numVotes\n",
      "84119   tt0111161            9.3   2959782\n",
      "257445  tt0468569            9.0   2941366\n",
      "673751  tt1375666            8.8   2610180\n",
      "100945  tt0137523            8.8   2391839\n",
      "448806  tt0944947            9.2   2361522\n"
     ]
    }
   ],
   "source": [
    "top_ratings = ratings.sort_values(by=\"numVotes\", ascending=False).head(1000)\n",
    "print(top_ratings.head())"
   ]
  },
  {
   "cell_type": "code",
   "execution_count": 19,
   "id": "95e0edba-f1ff-4985-ad65-64e1ab97da80",
   "metadata": {},
   "outputs": [],
   "source": [
    "top_ratings.to_csv(\"C:/Users/PCS/Desktop/dsecodingproject_Chaima/Dataset/top_ratings.tsv\", sep=\"\\t\", index=False)"
   ]
  },
  {
   "cell_type": "code",
   "execution_count": 30,
   "id": "a98bf7b6-4a34-4d13-874b-37819d002409",
   "metadata": {},
   "outputs": [
    {
     "name": "stdout",
     "output_type": "stream",
     "text": [
      "      tconst            primaryTitle startYear runtimeMinutes  \\\n",
      "0  tt0000001              Carmencita      1894              1   \n",
      "1  tt0000002  Le clown et ses chiens      1892              5   \n",
      "2  tt0000003            Poor Pierrot      1892              5   \n",
      "3  tt0000004             Un bon bock      1892             12   \n",
      "4  tt0000005        Blacksmith Scene      1893              1   \n",
      "\n",
      "                     genres  \n",
      "0         Documentary,Short  \n",
      "1           Animation,Short  \n",
      "2  Animation,Comedy,Romance  \n",
      "3           Animation,Short  \n",
      "4              Comedy,Short  \n"
     ]
    }
   ],
   "source": [
    "movies = pd.read_csv(\"C:/Users/PCS/Desktop/dsecodingproject_Chaima/Dataset/movie.tsv\", sep=\"\\t\",usecols=['tconst', 'primaryTitle','startYear','runtimeMinutes', 'genres'])\n",
    "print(movies.head())"
   ]
  },
  {
   "cell_type": "code",
   "execution_count": 32,
   "id": "274a442a-730f-4189-83a9-252584d4dadb",
   "metadata": {},
   "outputs": [
    {
     "name": "stdout",
     "output_type": "stream",
     "text": [
      "          tconst        primaryTitle startYear runtimeMinutes  \\\n",
      "27477  tt0027977        Modern Times      1936             87   \n",
      "30819  tt0031381  Gone with the Wind      1939            238   \n",
      "31559  tt0032138    The Wizard of Oz      1939            102   \n",
      "32864  tt0033467        Citizen Kane      1941            119   \n",
      "33963  tt0034583          Casablanca      1942            102   \n",
      "\n",
      "                         genres  \n",
      "27477      Comedy,Drama,Romance  \n",
      "30819         Drama,Romance,War  \n",
      "31559  Adventure,Family,Fantasy  \n",
      "32864             Drama,Mystery  \n",
      "33963         Drama,Romance,War  \n"
     ]
    }
   ],
   "source": [
    "top_movies = movies[movies['tconst'].isin(top_ratings['tconst'])]\n",
    "print(top_movies.head())"
   ]
  },
  {
   "cell_type": "code",
   "execution_count": 34,
   "id": "33f9819c-cb44-4580-be46-a6d723abeff3",
   "metadata": {},
   "outputs": [],
   "source": [
    "top_movies.to_csv(\"C:/Users/PCS/Desktop/dsecodingproject_Chaima/Dataset/top_movies.tsv\", sep=\"\\t\", index=False)"
   ]
  },
  {
   "cell_type": "code",
   "execution_count": 41,
   "id": "6bcb170f-2784-4ed5-83ed-66c5674d74b2",
   "metadata": {},
   "outputs": [
    {
     "name": "stdout",
     "output_type": "stream",
     "text": [
      "      tconst     nconst         category characters\n",
      "0  tt0000001  nm1588970             self   [\"Self\"]\n",
      "1  tt0000001  nm0005690         director         \\N\n",
      "2  tt0000001  nm0005690         producer         \\N\n",
      "3  tt0000001  nm0374658  cinematographer         \\N\n",
      "4  tt0000002  nm0721526         director         \\N\n"
     ]
    }
   ],
   "source": [
    "crew = pd.read_csv(\"C:/Users/PCS/Desktop/dsecodingproject_Chaima/Dataset/crew.tsv\", sep=\"\\t\",usecols=['tconst', 'nconst', 'category','characters'])\n",
    "print(crew.head())"
   ]
  },
  {
   "cell_type": "code",
   "execution_count": 42,
   "id": "e763e338-fcfb-49d9-9e6c-b64278e4ef25",
   "metadata": {},
   "outputs": [
    {
     "name": "stdout",
     "output_type": "stream",
     "text": [
      "           tconst     nconst category            characters\n",
      "307109  tt0027977  nm0000122    actor  [\"A Factory Worker\"]\n",
      "307110  tt0027977  nm0002104  actress           [\"A Gamin\"]\n",
      "307111  tt0027977  nm0074788    actor   [\"Cafe Proprietor\"]\n",
      "307112  tt0027977  nm0761866    actor          [\"Big Bill\"]\n",
      "307113  tt0027977  nm0174682    actor          [\"Mechanic\"]\n"
     ]
    }
   ],
   "source": [
    "top_crew = crew[crew['tconst'].isin(top_ratings['tconst'])]\n",
    "print(top_crew.head())"
   ]
  },
  {
   "cell_type": "code",
   "execution_count": 45,
   "id": "3cf0d37b-1f33-491d-9989-f4b70f59d8b4",
   "metadata": {},
   "outputs": [],
   "source": [
    "top_crew.to_csv(\"C:/Users/PCS/Desktop/dsecodingproject_Chaima/Dataset/top_crew.tsv\", sep=\"\\t\", index=False)\n"
   ]
  },
  {
   "cell_type": "code",
   "execution_count": 47,
   "id": "6960a297-747c-4b3a-9162-92385dfd2694",
   "metadata": {},
   "outputs": [
    {
     "name": "stdout",
     "output_type": "stream",
     "text": [
      "      nconst      primaryName birthYear deathYear  \\\n",
      "0  nm0000001     Fred Astaire      1899      1987   \n",
      "1  nm0000002    Lauren Bacall      1924      2014   \n",
      "2  nm0000003  Brigitte Bardot      1934        \\N   \n",
      "3  nm0000004     John Belushi      1949      1982   \n",
      "4  nm0000005   Ingmar Bergman      1918      2007   \n",
      "\n",
      "                    primaryProfession                           knownForTitles  \n",
      "0        actor,miscellaneous,producer  tt0050419,tt0072308,tt0053137,tt0027125  \n",
      "1  actress,soundtrack,archive_footage  tt0037382,tt0075213,tt0117057,tt0038355  \n",
      "2   actress,music_department,producer  tt0057345,tt0049189,tt0056404,tt0054452  \n",
      "3       actor,writer,music_department  tt0072562,tt0077975,tt0080455,tt0078723  \n",
      "4               writer,director,actor  tt0050986,tt0069467,tt0083922,tt0050976  \n"
     ]
    }
   ],
   "source": [
    "person = pd.read_csv(\"C:/Users/PCS/Desktop/dsecodingproject_Chaima/Dataset/person.tsv\", sep=\"\\t\")\n",
    "print(person.head())"
   ]
  },
  {
   "cell_type": "code",
   "execution_count": 49,
   "id": "72288b85-a487-467b-8d21-428607781ef9",
   "metadata": {},
   "outputs": [
    {
     "name": "stdout",
     "output_type": "stream",
     "text": [
      "       nconst      primaryName birthYear deathYear  \\\n",
      "5   nm0000006   Ingrid Bergman      1915      1982   \n",
      "6   nm0000007  Humphrey Bogart      1899      1957   \n",
      "7   nm0000008    Marlon Brando      1924      2004   \n",
      "15  nm0000016  Georges Delerue      1925      1992   \n",
      "19  nm0000020      Henry Fonda      1905      1982   \n",
      "\n",
      "                  primaryProfession                           knownForTitles  \n",
      "5       actress,producer,soundtrack  tt0034583,tt0036855,tt0038109,tt0038787  \n",
      "6      actor,producer,miscellaneous  tt0034583,tt0043265,tt0037382,tt0042593  \n",
      "7             actor,director,writer  tt0078788,tt0068646,tt0047296,tt0070849  \n",
      "15  composer,music_department,actor  tt0091763,tt0096320,tt0069946,tt0080610  \n",
      "19     actor,producer,miscellaneous  tt0050083,tt0082846,tt0032551,tt0051207  \n"
     ]
    }
   ],
   "source": [
    "top_person = person[person['nconst'].isin(top_crew['nconst'])]\n",
    "print(top_person.head())"
   ]
  },
  {
   "cell_type": "code",
   "execution_count": 51,
   "id": "e8278ac7-88e2-480d-b37d-b93d6d3b6ac6",
   "metadata": {},
   "outputs": [],
   "source": [
    "top_person.to_csv(\"C:/Users/PCS/Desktop/dsecodingproject_Chaima/Dataset/top_person.tsv\", sep=\"\\t\", index=False)\n"
   ]
  },
  {
   "cell_type": "code",
   "execution_count": null,
   "id": "a4c7132e-27eb-443c-b195-423c6c78903e",
   "metadata": {},
   "outputs": [],
   "source": []
  }
 ],
 "metadata": {
  "kernelspec": {
   "display_name": "Python 3 (ipykernel)",
   "language": "python",
   "name": "python3"
  },
  "language_info": {
   "codemirror_mode": {
    "name": "ipython",
    "version": 3
   },
   "file_extension": ".py",
   "mimetype": "text/x-python",
   "name": "python",
   "nbconvert_exporter": "python",
   "pygments_lexer": "ipython3",
   "version": "3.12.7"
  }
 },
 "nbformat": 4,
 "nbformat_minor": 5
}
