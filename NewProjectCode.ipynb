{
 "cells": [
  {
   "cell_type": "code",
   "execution_count": 287,
   "id": "692eae00-3fa9-48f7-83fa-d1fc5037d77d",
   "metadata": {},
   "outputs": [],
   "source": [
    "import pandas as pd\n",
    "import random\n",
    "import matplotlib.pyplot as plt\n",
    "import numpy as np"
   ]
  },
  {
   "cell_type": "code",
   "execution_count": 7,
   "id": "9c4a0645-9c97-4665-b4b0-f174dc27d7eb",
   "metadata": {},
   "outputs": [
    {
     "name": "stdout",
     "output_type": "stream",
     "text": [
      "      tconst  averageRating  numVotes\n",
      "0  tt0000001            5.7      2097\n",
      "1  tt0000002            5.6       282\n",
      "2  tt0000003            6.5      2117\n",
      "3  tt0000004            5.4       182\n",
      "4  tt0000005            6.2      2847\n"
     ]
    }
   ],
   "source": [
    "ratings = pd.read_csv(\"C:/Users/PCS/Desktop/Dataset/ratings.tsv\", sep=\"\\t\")\n",
    "print(ratings.head())"
   ]
  },
  {
   "cell_type": "code",
   "execution_count": 9,
   "id": "0d912771-fba4-45d2-9867-ce17d465b95f",
   "metadata": {},
   "outputs": [
    {
     "name": "stdout",
     "output_type": "stream",
     "text": [
      "           tconst  averageRating  numVotes\n",
      "84119   tt0111161            9.3   2959782\n",
      "257445  tt0468569            9.0   2941366\n",
      "673751  tt1375666            8.8   2610180\n",
      "100945  tt0137523            8.8   2391839\n",
      "448806  tt0944947            9.2   2361522\n"
     ]
    }
   ],
   "source": [
    "top_ratings = ratings.sort_values(by=\"numVotes\", ascending=False).head(1000)\n",
    "print(top_ratings.head())"
   ]
  },
  {
   "cell_type": "code",
   "execution_count": 11,
   "id": "95e0edba-f1ff-4985-ad65-64e1ab97da80",
   "metadata": {},
   "outputs": [],
   "source": [
    "top_ratings.to_csv(\"C:/Users/PCS/Desktop/dsecodingproject_Chaima/Dataset/top_ratings.tsv\", sep=\"\\t\", index=False)"
   ]
  },
  {
   "cell_type": "code",
   "execution_count": 15,
   "id": "a98bf7b6-4a34-4d13-874b-37819d002409",
   "metadata": {},
   "outputs": [
    {
     "name": "stdout",
     "output_type": "stream",
     "text": [
      "      tconst            primaryTitle startYear runtimeMinutes  \\\n",
      "0  tt0000001              Carmencita      1894              1   \n",
      "1  tt0000002  Le clown et ses chiens      1892              5   \n",
      "2  tt0000003            Poor Pierrot      1892              5   \n",
      "3  tt0000004             Un bon bock      1892             12   \n",
      "4  tt0000005        Blacksmith Scene      1893              1   \n",
      "\n",
      "                     genres  \n",
      "0         Documentary,Short  \n",
      "1           Animation,Short  \n",
      "2  Animation,Comedy,Romance  \n",
      "3           Animation,Short  \n",
      "4              Comedy,Short  \n"
     ]
    }
   ],
   "source": [
    "movies = pd.read_csv(\"C:/Users/PCS/Desktop/Dataset/movie.tsv\", sep=\"\\t\",usecols=['tconst', 'primaryTitle','startYear','runtimeMinutes', 'genres'])\n",
    "print(movies.head())"
   ]
  },
  {
   "cell_type": "code",
   "execution_count": 17,
   "id": "274a442a-730f-4189-83a9-252584d4dadb",
   "metadata": {},
   "outputs": [
    {
     "name": "stdout",
     "output_type": "stream",
     "text": [
      "          tconst        primaryTitle startYear runtimeMinutes  \\\n",
      "27477  tt0027977        Modern Times      1936             87   \n",
      "30819  tt0031381  Gone with the Wind      1939            238   \n",
      "31559  tt0032138    The Wizard of Oz      1939            102   \n",
      "32864  tt0033467        Citizen Kane      1941            119   \n",
      "33963  tt0034583          Casablanca      1942            102   \n",
      "\n",
      "                         genres  \n",
      "27477      Comedy,Drama,Romance  \n",
      "30819         Drama,Romance,War  \n",
      "31559  Adventure,Family,Fantasy  \n",
      "32864             Drama,Mystery  \n",
      "33963         Drama,Romance,War  \n"
     ]
    }
   ],
   "source": [
    "top_movies = movies[movies['tconst'].isin(top_ratings['tconst'])]\n",
    "print(top_movies.head())"
   ]
  },
  {
   "cell_type": "code",
   "execution_count": 19,
   "id": "33f9819c-cb44-4580-be46-a6d723abeff3",
   "metadata": {},
   "outputs": [],
   "source": [
    "top_movies.to_csv(\"C:/Users/PCS/Desktop/dsecodingproject_Chaima/Dataset/top_movies.tsv\", sep=\"\\t\", index=False)"
   ]
  },
  {
   "cell_type": "code",
   "execution_count": 21,
   "id": "6bcb170f-2784-4ed5-83ed-66c5674d74b2",
   "metadata": {},
   "outputs": [
    {
     "name": "stdout",
     "output_type": "stream",
     "text": [
      "      tconst     nconst         category characters\n",
      "0  tt0000001  nm1588970             self   [\"Self\"]\n",
      "1  tt0000001  nm0005690         director         \\N\n",
      "2  tt0000001  nm0005690         producer         \\N\n",
      "3  tt0000001  nm0374658  cinematographer         \\N\n",
      "4  tt0000002  nm0721526         director         \\N\n"
     ]
    }
   ],
   "source": [
    "crew = pd.read_csv(\"C:/Users/PCS/Desktop/Dataset/crew.tsv\", sep=\"\\t\",usecols=['tconst', 'nconst', 'category','characters']) \n",
    "print(crew.head())"
   ]
  },
  {
   "cell_type": "code",
   "execution_count": 22,
   "id": "e763e338-fcfb-49d9-9e6c-b64278e4ef25",
   "metadata": {},
   "outputs": [
    {
     "name": "stdout",
     "output_type": "stream",
     "text": [
      "           tconst     nconst category            characters\n",
      "307109  tt0027977  nm0000122    actor  [\"A Factory Worker\"]\n",
      "307110  tt0027977  nm0002104  actress           [\"A Gamin\"]\n",
      "307111  tt0027977  nm0074788    actor   [\"Cafe Proprietor\"]\n",
      "307112  tt0027977  nm0761866    actor          [\"Big Bill\"]\n",
      "307113  tt0027977  nm0174682    actor          [\"Mechanic\"]\n"
     ]
    }
   ],
   "source": [
    "top_crew = crew[crew['tconst'].isin(top_ratings['tconst'])]   \n",
    "print(top_crew.head())  "
   ]
  },
  {
   "cell_type": "code",
   "execution_count": 25,
   "id": "3cf0d37b-1f33-491d-9989-f4b70f59d8b4",
   "metadata": {},
   "outputs": [],
   "source": [
    "top_crew.to_csv(\"C:/Users/PCS/Desktop/dsecodingproject_Chaima/Dataset/top_crew.tsv\", sep=\"\\t\", index=False)\n"
   ]
  },
  {
   "cell_type": "code",
   "execution_count": 27,
   "id": "6960a297-747c-4b3a-9162-92385dfd2694",
   "metadata": {},
   "outputs": [
    {
     "name": "stdout",
     "output_type": "stream",
     "text": [
      "      nconst      primaryName birthYear deathYear  \\\n",
      "0  nm0000001     Fred Astaire      1899      1987   \n",
      "1  nm0000002    Lauren Bacall      1924      2014   \n",
      "2  nm0000003  Brigitte Bardot      1934        \\N   \n",
      "3  nm0000004     John Belushi      1949      1982   \n",
      "4  nm0000005   Ingmar Bergman      1918      2007   \n",
      "\n",
      "                    primaryProfession                           knownForTitles  \n",
      "0        actor,miscellaneous,producer  tt0050419,tt0072308,tt0053137,tt0027125  \n",
      "1  actress,soundtrack,archive_footage  tt0037382,tt0075213,tt0117057,tt0038355  \n",
      "2   actress,music_department,producer  tt0057345,tt0049189,tt0056404,tt0054452  \n",
      "3       actor,writer,music_department  tt0072562,tt0077975,tt0080455,tt0078723  \n",
      "4               writer,director,actor  tt0050986,tt0069467,tt0083922,tt0050976  \n"
     ]
    }
   ],
   "source": [
    "person = pd.read_csv(\"C:/Users/PCS/Desktop/Dataset/person.tsv\", sep=\"\\t\")\n",
    "print(person.head())"
   ]
  },
  {
   "cell_type": "code",
   "execution_count": 28,
   "id": "72288b85-a487-467b-8d21-428607781ef9",
   "metadata": {},
   "outputs": [
    {
     "name": "stdout",
     "output_type": "stream",
     "text": [
      "       nconst      primaryName birthYear deathYear  \\\n",
      "5   nm0000006   Ingrid Bergman      1915      1982   \n",
      "6   nm0000007  Humphrey Bogart      1899      1957   \n",
      "7   nm0000008    Marlon Brando      1924      2004   \n",
      "15  nm0000016  Georges Delerue      1925      1992   \n",
      "19  nm0000020      Henry Fonda      1905      1982   \n",
      "\n",
      "                  primaryProfession                           knownForTitles  \n",
      "5       actress,producer,soundtrack  tt0034583,tt0036855,tt0038109,tt0038787  \n",
      "6      actor,producer,miscellaneous  tt0034583,tt0043265,tt0037382,tt0042593  \n",
      "7             actor,director,writer  tt0078788,tt0068646,tt0047296,tt0070849  \n",
      "15  composer,music_department,actor  tt0091763,tt0096320,tt0069946,tt0080610  \n",
      "19     actor,producer,miscellaneous  tt0050083,tt0082846,tt0032551,tt0051207  \n"
     ]
    }
   ],
   "source": [
    "top_person = person[person['nconst'].isin(top_crew['nconst'])]\n",
    "print(top_person.head())"
   ]
  },
  {
   "cell_type": "code",
   "execution_count": 31,
   "id": "e8278ac7-88e2-480d-b37d-b93d6d3b6ac6",
   "metadata": {},
   "outputs": [],
   "source": [
    "top_person.to_csv(\"C:/Users/PCS/Desktop/dsecodingproject_Chaima/Dataset/top_person.tsv\", sep=\"\\t\", index=False)\n"
   ]
  },
  {
   "cell_type": "code",
   "execution_count": 117,
   "id": "47a29a0d-683c-4c27-b77f-e782dd3d3e5d",
   "metadata": {},
   "outputs": [],
   "source": [
    "points = 0"
   ]
  },
  {
   "cell_type": "code",
   "execution_count": 119,
   "id": "a4c7132e-27eb-443c-b195-423c6c78903e",
   "metadata": {},
   "outputs": [],
   "source": [
    "#choosing difficulty level function\n",
    "def choose_difficulty():\n",
    "    global points_multiplier\n",
    "    print(\"Choose your quiz difficulty level:\")\n",
    "    print(\"1. Easy (1 point per correct answer)\")\n",
    "    print(\"2. Medium (2 points per correct answer)\")\n",
    "    print(\"3. Hard (3 points per correct answer)\")\n",
    "    \n",
    "   \n",
    "    difficulty = input(\"Enter the number for your choice: \")\n",
    "   \n",
    "    return difficulty\n"
   ]
  },
  {
   "cell_type": "code",
   "execution_count": 373,
   "id": "0dbb4861-ab2d-4b6a-80dd-f2f37c4a55b2",
   "metadata": {},
   "outputs": [],
   "source": [
    "def easylevel(top_movies):\n",
    "    \"\"\"\n",
    "    The easy level questions function\n",
    "    \"\"\"\n",
    "    global points\n",
    "    correct_answers = 0\n",
    "    wrong_answers = 0\n",
    "    \n",
    "    movies = top_movies\n",
    "\n",
    "    if 'startYear' not in movies.columns:\n",
    "        print(\"'startYear' column is missing in the dataset.\")\n",
    "        return\n",
    "    movies = movies[movies['startYear'].notna()]  # Remove rows with missing 'startYear'\n",
    "\n",
    "    movies = movies[~movies['primaryTitle'].str.contains('episode', case=False, na=False)]\n",
    "\n",
    "    if movies.empty:\n",
    "        print(\"No movies with valid release years are available.\")\n",
    "        return\n",
    "\n",
    "    # 1st Question: Release Year\n",
    "    random_movie = movies.sample(1).iloc[0]\n",
    "    movie_title = random_movie['primaryTitle']\n",
    "    correct_year = int(random_movie['startYear'])\n",
    "\n",
    "\n",
    "\n",
    "    options = list({correct_year, correct_year + 3, correct_year - 2, correct_year + 1})\n",
    "    random.shuffle(options)\n",
    "\n",
    "    print(f\"\\nQuestion 1: In which year was the movie '{movie_title}' released?\")\n",
    "    for i, option in enumerate(options, 1):\n",
    "        print(f\"{i}. {option}\")\n",
    "\n",
    "            # Giving a hint to the user ( by distributong the release years for the movies and plotting a line near the correct year)\n",
    "    print(\"\\n*HINT*\")\n",
    "    plt.figure(figsize=(10, 6))\n",
    "    plt.hist(movies['startYear'].astype(int), bins=20, color='orange', edgecolor='darkgrey')\n",
    "    plt.axvline(correct_year, color='darkblue', linestyle='--', label=\"Hint: Focus on this region\")\n",
    "    plt.title(\"Distribution of Movie Release Years\",fontsize=13, color='darkblue')\n",
    "    plt.xlabel(\"Year\",fontsize=9, color='darkblue')\n",
    "    plt.ylabel(\"Number of Movies\",fontsize=9, color='darkblue')\n",
    "    plt.legend()\n",
    "    plt.show()\n",
    "\n",
    "    try:\n",
    "        user_answer = int(input(\"Your answer (1-4): \"))\n",
    "        if options[user_answer - 1] == correct_year:\n",
    "            print(\"Correct! 🎉\")\n",
    "            correct_answers += 1\n",
    "            points += 10  # Add 10 points for the correct answer\n",
    "        else:\n",
    "            print(f\"Wrong! The correct answer is {correct_year}.\")\n",
    "            wrong_answers += 1\n",
    "    except (ValueError, IndexError):\n",
    "        print(\"Invalid input. Please choose a number between 1 and 4.\")\n",
    "        wrong_answers += 1\n",
    "\n",
    "\n",
    "\n",
    "    \n",
    "    # 2nd Question: Genre\n",
    "    correct_genre = random_movie['genres'].split(',')[0]  # Getting only the first genre in order to know which one is the correct later\n",
    "    \n",
    "    # Generate random genres for the options\n",
    "    all_genres = movies['genres'].dropna().unique()\n",
    "    random_genres = random.sample(all_genres.tolist(), 3)\n",
    "    random_genres.append(correct_genre) \n",
    "    random.shuffle(random_genres)\n",
    "\n",
    "    print(f\"\\nQuestion 2: What is the genre of the movie '{movie_title}'?\")\n",
    "    for i, genre in enumerate(random_genres, 1):\n",
    "        print(f\"{i}. {genre}\")\n",
    "\n",
    "    try:\n",
    "        user_answer = int(input(\"Your answer (1-4): \"))\n",
    "        if random_genres[user_answer - 1] == correct_genre:\n",
    "            print(\"Correct! 🎉\")\n",
    "            correct_answers += 1\n",
    "            points += 10  # Adding 10 points for the correct answer\n",
    "        else:\n",
    "            print(f\"Wrong! The correct answer is {correct_genre}.\")\n",
    "            wrong_answers += 1\n",
    "    except (ValueError, IndexError):\n",
    "        print(\"Invalid input. Please choose a number between 1 and 4.\")\n",
    "        wrong_answers += 1\n",
    "\n",
    "    # 3rd Question: Runtime\n",
    "    correct_runtime = int(random_movie['runtimeMinutes'])\n",
    "    options_runtime = list({correct_runtime, correct_runtime + 15, correct_runtime + 10, correct_runtime + 5})\n",
    "    random.shuffle(options_runtime)\n",
    "\n",
    "    print(f\"\\nQuestion 3: How many minutes is the runtime of the movie '{movie_title}'?\")\n",
    "    for i, option in enumerate(options_runtime, 1):\n",
    "        print(f\"{i}. {option}\")\n",
    "\n",
    "    try:\n",
    "        user_answer = int(input(\"Your answer (1-4): \"))\n",
    "        if options_runtime[user_answer - 1] == correct_runtime:\n",
    "            print(\"Correct! 🎉\")\n",
    "            correct_answers += 1\n",
    "            points += 10\n",
    "        else:\n",
    "            wrong_answers += 1\n",
    "            print(f\"Wrong! The correct answer is {correct_runtime} minutes.\")\n",
    "    except (ValueError, IndexError):\n",
    "        print(\"Invalid input. Please choose a number between 1 and 4.\")\n",
    "        wrong_answers += 1\n",
    "\n",
    "     # Answers summary pie chart\n",
    "    labels = ['Correct Answers', 'Wrong Answers']\n",
    "    sizes = [correct_answers, wrong_answers]\n",
    "    colors = ['#4CAF50', '#F44336']\n",
    "    explode = (0.1, 0)  # Explode the first slice\n",
    "\n",
    "    plt.figure(figsize=(6, 6))\n",
    "    plt.pie(sizes, explode=explode, labels=labels, colors=colors, autopct='%1.1f%%', startangle=140)\n",
    "    plt.title(\"Quiz Results\")\n",
    "    plt.show()\n",
    "\n",
    "    print(f\"\\nFinal Results: Correct Answers: {correct_answers}, Wrong Answers: {wrong_answers}\")\n"
   ]
  },
  {
   "cell_type": "code",
   "execution_count": 381,
   "id": "e30a1461-c73a-4b37-9b71-be77da8eeb74",
   "metadata": {},
   "outputs": [],
   "source": [
    "def mediumlevel(top_movies, top_crew, top_person):\n",
    "    \"\"\"\n",
    "    Medium level questions function \n",
    "    \"\"\"\n",
    "    global points\n",
    "    correct_answers = 0\n",
    "    wrong_answers = 0\n",
    "\n",
    "\n",
    "    movies = top_movies\n",
    "    crew = top_crew\n",
    "    persons = top_person\n",
    "\n",
    "    # Ensure 'startYear' exists and filter invalid rows\n",
    "    if 'startYear' not in movies.columns:\n",
    "        print(\"'startYear' column is missing in the dataset.\")\n",
    "        return\n",
    "    movies = movies[movies['startYear'].notna()]  # Remove rows with missing 'startYear'\n",
    "    movies = movies[~movies['primaryTitle'].str.contains('episode', case=False, na=False)]  # Remove episodes\n",
    "\n",
    "    if movies.empty:\n",
    "        print(\"No movies with valid release years are available.\")\n",
    "        return\n",
    "\n",
    "    # Randomly select a movie\n",
    "    random_movie = movies.sample(1).iloc[0]\n",
    "    movie_title = random_movie['primaryTitle']\n",
    "    correct_year = int(random_movie['startYear'])\n",
    "\n",
    "    # Generate options for the year question\n",
    "    options = list({correct_year, correct_year + 3, correct_year - 2, correct_year + 1})\n",
    "    random.shuffle(options)\n",
    "    \n",
    "    # 1st Question: release year\n",
    "    print(f\"\\nQuestion 1: In which year was the movie '{movie_title}' released?\")\n",
    "    for i, option in enumerate(options, 1):\n",
    "        print(f\"{i}. {option}\")\n",
    "\n",
    "    print(\"\\n*HINT*\")\n",
    "    # Generating some histogram data related to decades of release years (hint for the user)\n",
    "    # Replace non-numeric values with NaN and drop them\n",
    "    movies['startYear'] = movies['startYear'].replace('\\\\N', np.nan)\n",
    "    movies['startYear'] = pd.to_numeric(movies['startYear'], errors='coerce')\n",
    "    \n",
    "    # Drop rows with NaN values in 'startYear'\n",
    "    movies_cleaned = movies.dropna(subset=['startYear'])\n",
    "    years = movies_cleaned['startYear'].astype(int).to_numpy()\n",
    "\n",
    "    bins = np.arange(1900, 2030, 10)\n",
    "    histogram, bin_edges = np.histogram(years, bins)\n",
    "    \n",
    "    # Plotting the histogram\n",
    "    plt.figure(figsize=(10, 6))\n",
    "    plt.bar(bin_edges[:-1], histogram, width=8, color='orange', edgecolor='black')\n",
    "    plt.title(\"Distribution of Movie Release Years (per Decades)\",fontsize=13, color='darkblue')\n",
    "    plt.xlabel(\"Decade\",fontsize=9, color='darkblue')\n",
    "    plt.ylabel(\"Number of Movies\",fontsize=9, color='darkblue')\n",
    "    plt.xticks(bin_edges, rotation=45)\n",
    "    plt.show()\n",
    "\n",
    "    try:\n",
    "        user_answer = int(input(\"Your answer (1-4): \"))\n",
    "        if options[user_answer - 1] == correct_year:\n",
    "            print(\"Correct! 🎉\")\n",
    "            correct_answers += 1\n",
    "            points += 20  # Points for correct answer\n",
    "        else:\n",
    "            print(f\"Wrong! The correct answer is {correct_year}.\")\n",
    "            wrong_answers += 1\n",
    "    except (ValueError, IndexError):\n",
    "        print(\"Invalid input. Please choose a number between 1 and 4.\")\n",
    "        wrong_answers += 1\n",
    "\n",
    "    # 2nd question:  Crew Question \n",
    "    # Randomly select a crew member related to the selected movie\n",
    "    movie_crew = crew[crew['tconst'] == random_movie['tconst']]\n",
    "    if movie_crew.empty:\n",
    "        print(\"No crew data available for this movie.\")\n",
    "    else:\n",
    "        # Randomly select one crew member\n",
    "        random_crew = movie_crew.sample(1).iloc[0]\n",
    "        crew_member_name = random_crew['nconst']\n",
    "        crew_member_role = random_crew['category']  # This could be director, writer, etc.\n",
    "\n",
    "        # Retrieve the person's name from the person dataset\n",
    "        crew_member_info = persons[persons['nconst'] == crew_member_name]\n",
    "        crew_member_name_full = crew_member_info['primaryName'].iloc[0] if not crew_member_info.empty else \"Unknown\"\n",
    "\n",
    "        # Ask the user to identify the crew member\n",
    "        print(f\"\\nQuestion 2: Which one is a(n) {crew_member_role} of the movie '{movie_title}'?\")\n",
    "        \n",
    "        # Generate random incorrect options\n",
    "        random_names = random.sample(list(persons['primaryName']), 3)\n",
    "        options = [crew_member_name_full] + random_names\n",
    "        random.shuffle(options)\n",
    "        \n",
    "        print(\"Options: \")\n",
    "        for i, option in enumerate(options, 1):\n",
    "            print(f\"{i}. {option}\")\n",
    "\n",
    "        try:\n",
    "            user_answer = int(input(\"Your answer (1-4): \"))\n",
    "            if options[user_answer - 1] == crew_member_name_full:\n",
    "                print(\"Correct! 🎉\")\n",
    "                correct_answers += 1\n",
    "                points += 20  \n",
    "            else:\n",
    "                print(f\"Wrong! The correct answer is {crew_member_name_full}.\")\n",
    "                wrong_answers += 1\n",
    "        except (ValueError, IndexError):\n",
    "            print(\"Invalid input. Please choose a number between 1 and 4.\")\n",
    "            wrong_answers += 1\n",
    "            \n",
    "    # 3rd Question: Producer Question \n",
    "    # Randomly select a producer (crew member with role \"producer\")\n",
    "    movie_producers = movie_crew[movie_crew['category'] == 'producer']\n",
    "    if movie_producers.empty:\n",
    "        print(\"No producers data available for this movie.\")\n",
    "    else:\n",
    "        # Randomly select one producer\n",
    "        random_producer = movie_producers.sample(1).iloc[0]\n",
    "        producer_name = random_producer['nconst']\n",
    "\n",
    "  \n",
    "        producer_info = persons[persons['nconst'] == producer_name]\n",
    "        producer_name_full = producer_info['primaryName'].iloc[0] if not producer_info.empty else \"Unknown\"\n",
    "\n",
    "        print(f\"\\nQuestion 3: Who is the producer of the movie '{movie_title}'?\")\n",
    "        \n",
    "        # Generate random incorrect options\n",
    "        random_names = random.sample(list(persons['primaryName']), 3)\n",
    "        options = [producer_name_full] + random_names\n",
    "        random.shuffle(options)\n",
    "        \n",
    "        print(\"Options: \")\n",
    "        for i, option in enumerate(options, 1):\n",
    "            print(f\"{i}. {option}\")\n",
    "\n",
    "        try:\n",
    "            user_answer = int(input(\"Your answer (1-4): \"))\n",
    "            if options[user_answer - 1] == producer_name_full:\n",
    "                print(\"Correct! 🎉\")\n",
    "                correct_answers += 1\n",
    "                points += 20  # Points for correct answer\n",
    "            else:\n",
    "                print(f\"Wrong! The correct answer is {producer_name_full}.\")\n",
    "                wrong_answers += 1\n",
    "        except (ValueError, IndexError):\n",
    "            print(\"Invalid input. Please choose a number between 1 and 4.\")\n",
    "            wrong_answers += 1\n",
    "\n",
    "      # Answers summary pie chart\n",
    "    labels = ['Correct Answers', 'Wrong Answers']\n",
    "    sizes = [correct_answers, wrong_answers]\n",
    "    colors = ['#4CAF50', '#F44336']\n",
    "    explode = (0.1, 0)  # Explode the first slice\n",
    "\n",
    "    plt.figure(figsize=(6, 6))\n",
    "    plt.pie(sizes, explode=explode, labels=labels, colors=colors, autopct='%1.1f%%', startangle=140)\n",
    "    plt.title(\"Quiz Results\")\n",
    "    plt.show()\n",
    "\n",
    "    print(f\"\\nFinal Results: Correct Answers: {correct_answers}, Wrong Answers: {wrong_answers}\")\n"
   ]
  },
  {
   "cell_type": "code",
   "execution_count": 349,
   "id": "ab0a8f62-8eda-4973-88dc-5e080fbf5e46",
   "metadata": {},
   "outputs": [],
   "source": [
    "\n",
    "def hardlevel(top_movies, top_crew, top_person):\n",
    "    \"\"\"\n",
    "    Hard level questions function\n",
    "    \"\"\"\n",
    "    global points\n",
    "    correct_answers = 0\n",
    "    wrong_answers = 0\n",
    "\n",
    "\n",
    "    movies = top_movies\n",
    "    crew = top_crew\n",
    "    persons = top_person\n",
    "\n",
    "    top_crew = top_crew[top_crew['characters'].notna()]\n",
    "    top_person = top_person[top_person['birthYear'].notna()]\n",
    "    # 1st Question: Release Year of the movie\n",
    "    random_movie = movies.sample(1).iloc[0]\n",
    "    movie_title = random_movie['primaryTitle']\n",
    "    correct_year = int(random_movie['startYear'])\n",
    "    \n",
    "    options = list({correct_year, correct_year + 3, correct_year - 2, correct_year + 1})\n",
    "    random.shuffle(options)\n",
    "\n",
    "    print(f\"\\nQuestion 1: In which year was the movie '{movie_title}' released?\")\n",
    "    for i, option in enumerate(options, 1):\n",
    "        print(f\"{i}. {option}\")\n",
    "\n",
    "    try:\n",
    "        user_answer = int(input(\"Your answer (1-4): \"))\n",
    "        if options[user_answer - 1] == correct_year:\n",
    "            print(\"Correct! 🎉\")\n",
    "            points += 25  # Adding 25 points for correct answer\n",
    "            correct_answers += 1\n",
    "        else:\n",
    "            print(f\"Wrong! The correct answer is {correct_year}.\")\n",
    "            wrong_answers += 1\n",
    "    except (ValueError, IndexError):\n",
    "        print(\"Invalid input. Please choose a number between 1 and 4.\")\n",
    "        wrong_answers += 1\n",
    "\n",
    "    # 2nd question : Character played?\n",
    "    # Get actors/actresses and their characters for the movie\n",
    "    movie_crew = crew[crew['tconst'] == random_movie['tconst']]\n",
    "    actors = movie_crew[movie_crew['category'] == 'actor']\n",
    "\n",
    "    if actors.empty:\n",
    "        print(\"No actors found for this movie.\")\n",
    "        return\n",
    "\n",
    "    # Randomly choose an actor\n",
    "    random_actor = actors.sample(1).iloc[0]\n",
    "    actor_nconst = random_actor['nconst']\n",
    "\n",
    "    # Get actor's name from the top_person table\n",
    "    actor_name = persons[persons['nconst'] == actor_nconst]['primaryName'].values[0]\n",
    "\n",
    "    # Get the character played by the actor\n",
    "    correct_character = random_actor['characters']\n",
    "    clean_correct_character = correct_character.strip(\"[]\").strip('\"') #the character data is with [\"\"] so we want to display only the character name\n",
    "\n",
    "    # If there is no character name, skip the question\n",
    "    if pd.isna(correct_character):\n",
    "        print(f\"No character name found for {actor_name} in the movie '{movie_title}'.\")\n",
    "        return\n",
    "\n",
    "    # Generate random incorrect character names\n",
    "    random_characters = random.sample(list(crew['characters'].dropna().unique()), 3)\n",
    "    clean_random_characters = [char.strip(\"[]\").strip('\"') for char in random_characters]\n",
    "    options = [clean_correct_character] + clean_random_characters\n",
    "    random.shuffle(options)\n",
    "\n",
    "    # Ask the question\n",
    "    print(f\"\\nQuestion 2: Which character did {actor_name} play in the movie '{movie_title}'?\")\n",
    "    for i, option in enumerate(options, 1):\n",
    "        print(f\"{i}. {option}\")\n",
    "\n",
    "    try:\n",
    "        user_answer = int(input(\"Your answer (1-4): \"))\n",
    "        if options[user_answer - 1] == clean_correct_character:\n",
    "            print(\"Correct! 🎉\")\n",
    "            correct_answers += 1\n",
    "            points += 25  # Adding 25 points for correct answer\n",
    "        else:\n",
    "            print(f\"Wrong! The correct answer is {clean_correct_character}.\")\n",
    "            wrong_answers += 1\n",
    "    except (ValueError, IndexError):\n",
    "        print(\"Invalid input. Please choose a number between 1 and 4.\")\n",
    "        wrong_answers += 1\n",
    "\n",
    "   \n",
    "    #3rd Question: Actor's birth year\n",
    "    correct_birth_year = int(persons[persons['nconst'] == actor_nconst]['birthYear'].values[0])\n",
    "\n",
    "    options = list({correct_birth_year, correct_birth_year + 5, correct_birth_year - 3, correct_birth_year + 10})\n",
    "    random.shuffle(options)\n",
    "\n",
    "    print(f\"\\nQuestion 3: What is the birth year of {actor_name}?\")\n",
    "    for i, option in enumerate(options, 1):\n",
    "        print(f\"{i}. {option}\")\n",
    "  \n",
    "    \n",
    "\n",
    "    try:\n",
    "        user_answer = int(input(\"Your answer (1-4): \"))\n",
    "        if options[user_answer - 1] == correct_birth_year:\n",
    "            print(\"Correct! 🎉\")\n",
    "            correct_answers += 1\n",
    "            points += 25\n",
    "        else:\n",
    "            print(f\"Wrong! The correct answer is {correct_birth_year}.\")\n",
    "            wrong_answers += 1\n",
    "    except (ValueError, IndexError):\n",
    "        print(\"Invalid input. Please choose a number between 1 and 4.\")\n",
    "        wrong_answers += 1  \n",
    "        \n",
    "    # Answers summary pie chart\n",
    "    labels = ['Correct Answers', 'Wrong Answers']\n",
    "    sizes = [correct_answers, wrong_answers]\n",
    "    colors = ['#4CAF50', '#F44336']\n",
    "    explode = (0.1, 0)  # Explode the first slice\n",
    "\n",
    "    plt.figure(figsize=(6, 6))\n",
    "    plt.pie(sizes, explode=explode, labels=labels, colors=colors, autopct='%1.1f%%', startangle=140)\n",
    "    plt.title(\"Quiz Results\")\n",
    "    plt.show()\n",
    "\n",
    "    print(f\"\\nFinal Results: Correct Answers: {correct_answers}, Wrong Answers: {wrong_answers}\")\n",
    "    \n",
    "\n"
   ]
  },
  {
   "cell_type": "code",
   "execution_count": 387,
   "id": "1d314f83-ff88-435f-b2cb-c3efc682d706",
   "metadata": {},
   "outputs": [
    {
     "name": "stdout",
     "output_type": "stream",
     "text": [
      "Choose your quiz difficulty level:\n",
      "1. Easy (1 point per correct answer)\n",
      "2. Medium (2 points per correct answer)\n",
      "3. Hard (3 points per correct answer)\n"
     ]
    },
    {
     "name": "stdin",
     "output_type": "stream",
     "text": [
      "Enter the number for your choice:  1\n"
     ]
    },
    {
     "name": "stdout",
     "output_type": "stream",
     "text": [
      "\n",
      "Question 1: In which year was the movie 'The Lord of the Rings: The Fellowship of the Ring' released?\n",
      "1. 2004\n",
      "2. 2001\n",
      "3. 2002\n",
      "4. 1999\n",
      "\n",
      "*HINT*\n"
     ]
    },
    {
     "data": {
      "image/png": "[encoded data removed]",
      "text/plain": [
       "<Figure size 1000x600 with 1 Axes>"
      ]
     },
     "metadata": {},
     "output_type": "display_data"
    },
    {
     "name": "stdin",
     "output_type": "stream",
     "text": [
      "Your answer (1-4):  2\n"
     ]
    },
    {
     "name": "stdout",
     "output_type": "stream",
     "text": [
      "Correct! 🎉\n",
      "\n",
      "Question 2: What is the genre of the movie 'The Lord of the Rings: The Fellowship of the Ring'?\n",
      "1. Crime,Drama,Fantasy\n",
      "2. Animation,Drama,War\n",
      "3. Action\n",
      "4. Adventure,Drama,History\n"
     ]
    },
    {
     "name": "stdin",
     "output_type": "stream",
     "text": [
      "Your answer (1-4):  3\n"
     ]
    },
    {
     "name": "stdout",
     "output_type": "stream",
     "text": [
      "Correct! 🎉\n",
      "\n",
      "Question 3: How many minutes is the runtime of the movie 'The Lord of the Rings: The Fellowship of the Ring'?\n",
      "1. 188\n",
      "2. 183\n",
      "3. 193\n",
      "4. 178\n"
     ]
    },
    {
     "name": "stdin",
     "output_type": "stream",
     "text": [
      "Your answer (1-4):  3\n"
     ]
    },
    {
     "name": "stdout",
     "output_type": "stream",
     "text": [
      "Wrong! The correct answer is 178 minutes.\n"
     ]
    },
    {
     "data": {
      "image/png": "[encoded data removed]",
      "text/plain": [
       "<Figure size 600x600 with 1 Axes>"
      ]
     },
     "metadata": {},
     "output_type": "display_data"
    },
    {
     "name": "stdout",
     "output_type": "stream",
     "text": [
      "\n",
      "Final Results: Correct Answers: 2, Wrong Answers: 1\n",
      "Your final score is: 20 Points\n"
     ]
    }
   ],
   "source": [
    "if __name__ == \"__main__\":\n",
    "\n",
    "\n",
    "    # Choose difficulty level at the start (by calling the choose_difficulty function defined at the beginning)\n",
    "    difficulty_level = choose_difficulty()\n",
    "\n",
    "    \n",
    "    if difficulty_level == '1':  # Easy (calling the easy level function)\n",
    "        easylevel(top_movies)\n",
    "    elif difficulty_level == '2':  # Medium (calling the medium level function)\n",
    "        mediumlevel(top_movies, top_crew, top_person)\n",
    "    elif difficulty_level == '3':  # Hard (calling the hard level function)\n",
    "        hardlevel(top_movies, top_crew, top_person)\n",
    "\n",
    "    # Print final score\n",
    "    \n",
    "    print(f\"Your final score is: {points} Points\")\n",
    "points=0"
   ]
  },
  {
   "cell_type": "code",
   "execution_count": null,
   "id": "e8fe76f3-ebd9-475d-aec9-9695fae5ffc4",
   "metadata": {},
   "outputs": [],
   "source": []
  }
 ],
 "metadata": {
  "kernelspec": {
   "display_name": "Python 3 (ipykernel)",
   "language": "python",
   "name": "python3"
  },
  "language_info": {
   "codemirror_mode": {
    "name": "ipython",
    "version": 3
   },
   "file_extension": ".py",
   "mimetype": "text/x-python",
   "name": "python",
   "nbconvert_exporter": "python",
   "pygments_lexer": "ipython3",
   "version": "3.12.7"
  }
 },
 "nbformat": 4,
 "nbformat_minor": 5
}
